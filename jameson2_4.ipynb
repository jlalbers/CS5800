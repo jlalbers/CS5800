{
 "cells": [
  {
   "cell_type": "markdown",
   "metadata": {},
   "source": [
    "# Problem 4 Solution\r\n",
    "\r\n",
    "### CS5800, Spring 2021\r\n",
    "### Jameson Albers, Meet Patel, Yong Shi"
   ]
  },
  {
   "cell_type": "markdown",
   "metadata": {},
   "source": [
    "---\r\n",
    "### A team of six Northeastern students (Artik, Bingyan, Chen, Dishant, Eran, Fangyuan) play the following game. They enter a room, one at a time, in any order they wish, until all six people have gone in once.\r\n",
    "\r\n",
    "### In the room, there is a table with a row of six identical boxes labelled 1, 2, 3, 4, 5, 6.  Inside each box is the name of one person, randomly chosen so that each person’s name appears in exactly one box.\r\n",
    "\r\n",
    "### Once inside the room, each person is allowed to open and look inside 5 boxes of their choice.  After each person has opened their five boxes they must leave the room, making sure that the boxes are inexactly the same state as before, and they are not allowed to communicate with anyone else. The team shares a prize if every single person manages to find the box containing their name."
   ]
  },
  {
   "cell_type": "markdown",
   "metadata": {},
   "source": [
    "---\r\n",
    "### (a)  Suppose the team’s algorithm is the following:  three people (Artik, Chen, Eran) open just the odd-numbered boxes, and the other three (Bingyan, Dishant, Fangyuan) open just the even-numbered boxes.  Determine the probability that the team wins the prize by following this algorithm."
   ]
  },
  {
   "cell_type": "code",
   "execution_count": 1,
   "metadata": {},
   "outputs": [
    {
     "name": "stdout",
     "output_type": "stream",
     "text": [
      "Probability of winning: 36/720 or 5.0%\n"
     ]
    }
   ],
   "source": [
    "# 4.a Solution\r\n",
    "\r\n",
    "from itertools import permutations\r\n",
    "\r\n",
    "# Create list of students\r\n",
    "students = [\"Artik\", \"Bingyan\", \"Chen\", \"Dishant\", \"Eran\", \"Fangyuan\"]\r\n",
    "\r\n",
    "# Generate the permutations of the order of students, each as a list. For example,\r\n",
    "# index 0 will represent box 1, index 1 represents box 2, etc.\r\n",
    "box_permutations = permutations(students)\r\n",
    "\r\n",
    "# Initialize the counter to count each time the team wins\r\n",
    "wins = 0\r\n",
    "\r\n",
    "# Check each permutation\r\n",
    "for perm in list(box_permutations):\r\n",
    "\r\n",
    "    # Initiate counter for # of students that find their name\r\n",
    "    success_count = 0\r\n",
    "\r\n",
    "    # Actions for each student, beginning with Artik\r\n",
    "    for student in students:\r\n",
    "\r\n",
    "        # Actions for students opening the odd-numbered boxes\r\n",
    "        if students.index(student) % 2 == 0:\r\n",
    "\r\n",
    "            # Check indexes 0, 2, 4, which correspond to boxes 1, 3, 5\r\n",
    "            for i in range(0, 6, 2):\r\n",
    "\r\n",
    "                # If the name is equal to the student's name, count it\r\n",
    "                if perm[i] == student:\r\n",
    "                    success_count += 1\r\n",
    "\r\n",
    "        # Actions for students opening the even-numbered boxes\r\n",
    "        else:\r\n",
    "\r\n",
    "            # Check indexes 1, 3, 5, which correspond to boxes 2, 4, 6\r\n",
    "            for i in range (1, 7, 2):\r\n",
    "\r\n",
    "                # If the name in the box is equal to the student's name, count it\r\n",
    "                if perm[i] == student:\r\n",
    "                    success_count += 1\r\n",
    "\r\n",
    "    # If all 6 students find their name, they won the game for this permutation!\r\n",
    "    if success_count == 6:\r\n",
    "        wins += 1    \r\n",
    "\r\n",
    "# Determine the probability as a fraction and as a decimal percentage, defined as\r\n",
    "# the number of wins divided by the number of permutations (which is 720)\r\n",
    "print(\"Probability of winning: \" + str(wins) + \"/720 or \" + str((wins/720) * 100) + \"%\")"
   ]
  },
  {
   "cell_type": "markdown",
   "metadata": {},
   "source": [
    "---\r\n",
    "### (b) Suppose the team’s algorithm is the following: each person avoids the box corresponding to their number (i.e., Artik avoids Box 1, Bingyan avoids Box 2, Chen avoids Box 3, and so on). Thus, each person selects a different set of 5 boxes. Determine the probability that the team wins the prize by following this algorithm."
   ]
  },
  {
   "cell_type": "code",
   "execution_count": 2,
   "metadata": {},
   "outputs": [
    {
     "name": "stdout",
     "output_type": "stream",
     "text": [
      "Probability of winning: 265/720 or 36.80555555555556%\n"
     ]
    }
   ],
   "source": [
    "# 4.b Solution\r\n",
    "\r\n",
    "# Create list of students\r\n",
    "students = [\"Artik\", \"Bingyan\", \"Chen\", \"Dishant\", \"Eran\", \"Fangyuan\"]\r\n",
    "\r\n",
    "# Generate the permutations of the order of students, each as a list. For example,\r\n",
    "# index 0 will represent box 1, index 1 represents box 2, etc.\r\n",
    "box_permutations = permutations(students)\r\n",
    "\r\n",
    "# Initialize the counter to count each time the team wins\r\n",
    "wins = 0\r\n",
    "\r\n",
    "# Check each permutation\r\n",
    "for perm in list(box_permutations):\r\n",
    "\r\n",
    "    # Initiate a counter for # of students that find their name\r\n",
    "    success_count = 0\r\n",
    "\r\n",
    "    # Actions for each student, beginning with Artik\r\n",
    "    for student in students:\r\n",
    "\r\n",
    "        # Loop through each box\r\n",
    "        for i in range(0,6):\r\n",
    "            \r\n",
    "            # Student only opens boxes that don't correspond to their number/index\r\n",
    "            if i != students.index(student):\r\n",
    "\r\n",
    "                # If the name in the box is equal to the student's name, count it\r\n",
    "                if perm[i] == student:\r\n",
    "                    success_count += 1\r\n",
    "                    break\r\n",
    "\r\n",
    "    # If all 6 students find their name, they won the game for this permuatation!\r\n",
    "    if success_count == 6:\r\n",
    "        wins += 1\r\n",
    "    \r\n",
    "\r\n",
    "# Determine the probability as a fraction and as a decimal percentage, defined as\r\n",
    "# the number of wins divided by the number of permutations (which is 720)\r\n",
    "print(\"Probability of winning: \" + str(wins) + \"/720 or \" + str((wins/720) * 100) + \"%\")"
   ]
  },
  {
   "cell_type": "markdown",
   "metadata": {},
   "source": [
    "---\r\n",
    "### (c) Suppose the team’s algorithm is the following: each person starts with the box corresponding to their number, and opens the next box depending on what name they see in the box they open. For example, Chen first opens Box 3. If he sees the name “Artik” in Box 3, then his next move is to open Box 1. Determine the probability that the team wins the prize by following this algorithm."
   ]
  },
  {
   "cell_type": "code",
   "execution_count": 3,
   "metadata": {},
   "outputs": [
    {
     "name": "stdout",
     "output_type": "stream",
     "text": [
      "Probability of winning: 600/720 or 83.33333333333334%\n"
     ]
    }
   ],
   "source": [
    "# 4.c Solution\r\n",
    "\r\n",
    "# Create list of students\r\n",
    "students = [\"Artik\", \"Bingyan\", \"Chen\", \"Dishant\", \"Eran\", \"Fangyuan\"]\r\n",
    "\r\n",
    "# Generate the permutations of the order of students, each as a list. For example,\r\n",
    "# index 0 will represent box 1, index 1 represents box 2, etc.\r\n",
    "box_permutations = permutations(students)\r\n",
    "\r\n",
    "# Initialize the counter to count each time the team wins\r\n",
    "wins = 0\r\n",
    "\r\n",
    "# Check each permutation\r\n",
    "for perm in list(box_permutations):\r\n",
    "\r\n",
    "    # Initiate a counter for # of students that find their name\r\n",
    "    success_count = 0\r\n",
    "\r\n",
    "    # Actions for each student, beginning with Artik\r\n",
    "    for student in students:\r\n",
    "\r\n",
    "        # Create a current_index variable; this will the box that the student will\r\n",
    "        # check next. Initially, it is equal to the box corresponding to that student's\r\n",
    "        # number (index 0/box 1 for Artik, index 1/box 2 for Bingyan, etc.)\r\n",
    "        current_index = students.index(student)\r\n",
    "\r\n",
    "        # Repeat the following procedure 5 times, the maximum number of boxes any student\r\n",
    "        # is allowed to open\r\n",
    "        for i in range(0,5):\r\n",
    "\r\n",
    "            # If the box contains the student's name, count a success and stop searching\r\n",
    "            if perm[current_index] == student:\r\n",
    "                success_count += 1\r\n",
    "                break\r\n",
    "\r\n",
    "            # Otherwise, check the box that corresponds to the number of the student\r\n",
    "            # whose name was in the box that was opened\r\n",
    "            else:\r\n",
    "                current_index = students.index(perm[current_index])\r\n",
    "            \r\n",
    "    # If all 6 students find their name, they won the game for this permutation!\r\n",
    "    if success_count == 6:\r\n",
    "        wins += 1    \r\n",
    "\r\n",
    "# Determine the probability as a fraction and as a decimal percentage, defined as\r\n",
    "# the number of wins divided by the number of permutations (which is 720)\r\n",
    "print(\"Probability of winning: \" + str(wins) + \"/720 or \" + str((wins/720) * 100) + \"%\")"
   ]
  },
  {
   "cell_type": "markdown",
   "metadata": {},
   "source": [
    "---\r\n",
    "### (d) Suppose the team’s algorithm is identical to that of part (c), except that each person stops after opening 3 boxes, instead of the 5 boxes they are allowed to open. Clearly the winning probability is less than that of part (c), but how much lower is it? Determine the probability that the team wins the prize by following this algorithm."
   ]
  },
  {
   "cell_type": "code",
   "execution_count": 4,
   "metadata": {},
   "outputs": [
    {
     "name": "stdout",
     "output_type": "stream",
     "text": [
      "Probability of winning: 276/720 or 38.333333333333336%\n"
     ]
    }
   ],
   "source": [
    "# 4.d Solution\r\n",
    "\r\n",
    "# Create list of students\r\n",
    "students = [\"Artik\", \"Bingyan\", \"Chen\", \"Dishant\", \"Eran\", \"Fangyuan\"]\r\n",
    "\r\n",
    "# Generate the permutations of the order of students, each as a list. For example,\r\n",
    "# index 0 will represent box 1, index 1 represents box 2, etc.\r\n",
    "box_permutations = permutations(students)\r\n",
    "\r\n",
    "# Initialize the counter to count each time the team wins\r\n",
    "wins = 0\r\n",
    "\r\n",
    "# Check each permutation\r\n",
    "for perm in list(box_permutations):\r\n",
    "\r\n",
    "    # Initiate a counter for # of students that find their name\r\n",
    "    success_count = 0\r\n",
    "\r\n",
    "    # Actions for each student, beginning with Artik\r\n",
    "    for student in students:\r\n",
    "\r\n",
    "        # Create a current_index variable; this will the box that the student will\r\n",
    "        # check next. Initially, it is equal to the box corresponding to that student's\r\n",
    "        # number (index 0/box 1 for Artik, index 1/box 2 for Bingyan, etc.)\r\n",
    "        current_index = students.index(student)\r\n",
    "\r\n",
    "        # Repeat the following procedure 3 times, the maximum number of boxes any student\r\n",
    "        # will open when following the specified algorithm\r\n",
    "        for i in range(0,3):\r\n",
    "\r\n",
    "            # If the box contains the student's name, count a success and stop searching\r\n",
    "            if perm[current_index] == student:\r\n",
    "                success_count += 1\r\n",
    "                break\r\n",
    "\r\n",
    "             # Otherwise, check the box that corresponds to the number of the student\r\n",
    "            # whose name was in the box that was opened\r\n",
    "            else:\r\n",
    "                current_index = students.index(perm[current_index])\r\n",
    "            \r\n",
    "    # If all 6 students find their name, they won the game for this permutation!\r\n",
    "    if success_count == 6:\r\n",
    "        wins += 1    \r\n",
    "\r\n",
    "# Determine the probability as a fraction and as a decimal percentage, defined as\r\n",
    "# the number of wins divided by the number of permutations (which is 720)\r\n",
    "print(\"Probability of winning: \" + str(wins) + \"/720 or \" + str((wins/720) * 100) + \"%\")"
   ]
  }
 ],
 "metadata": {
  "interpreter": {
   "hash": "22d9742e846c5b2e6352a52abbfdb0eaab0b509899a61abbfb2417673253b584"
  },
  "kernelspec": {
   "display_name": "Python 3 (ipykernel)",
   "language": "python",
   "name": "python3"
  },
  "language_info": {
   "codemirror_mode": {
    "name": "ipython",
    "version": 3
   },
   "file_extension": ".py",
   "mimetype": "text/x-python",
   "name": "python",
   "nbconvert_exporter": "python",
   "pygments_lexer": "ipython3",
   "version": "3.9.7"
  }
 },
 "nbformat": 4,
 "nbformat_minor": 4
}
